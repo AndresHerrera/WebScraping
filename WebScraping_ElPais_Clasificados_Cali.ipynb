{
 "cells": [
  {
   "cell_type": "code",
   "execution_count": 221,
   "metadata": {},
   "outputs": [],
   "source": [
    "import requests\n",
    "import urllib.parse as urlparse\n",
    "from urllib.parse import parse_qs\n",
    "from bs4 import BeautifulSoup\n",
    "import pandas as pd\n",
    "import numpy as np\n",
    "from tqdm import tqdm\n",
    "import datetime"
   ]
  },
  {
   "cell_type": "code",
   "execution_count": 222,
   "metadata": {},
   "outputs": [
    {
     "name": "stdout",
     "output_type": "stream",
     "text": [
      "Tipo: alquiler -> Categoria: apartaestudios\n",
      "Tipo: alquiler -> Categoria: apartamentos\n",
      "Tipo: alquiler -> Categoria: casas\n",
      "Tipo: alquiler -> Categoria: edificios\n",
      "Tipo: alquiler -> Categoria: fincas-y-casas-campestres\n",
      "Tipo: alquiler -> Categoria: garajes-y-parqueaderos\n",
      "Tipo: alquiler -> Categoria: habitaciones\n",
      "Tipo: alquiler -> Categoria: locales-y-bodegas\n",
      "Tipo: alquiler -> Categoria: lotes\n",
      "Tipo: alquiler -> Categoria: oficinas-y-consultorios\n",
      "Tipo: venta -> Categoria: apartaestudios\n",
      "Tipo: venta -> Categoria: apartamentos\n",
      "Tipo: venta -> Categoria: casas\n",
      "Tipo: venta -> Categoria: edificios\n",
      "Tipo: venta -> Categoria: fincas-y-casas-campestres\n",
      "Tipo: venta -> Categoria: garajes-y-parqueaderos\n",
      "Tipo: venta -> Categoria: habitaciones\n",
      "Tipo: venta -> Categoria: locales-y-bodegas\n",
      "Tipo: venta -> Categoria: lotes\n",
      "Tipo: venta -> Categoria: oficinas-y-consultorios\n"
     ]
    }
   ],
   "source": [
    "urls=[]\n",
    "tipos=['alquiler','venta']\n",
    "categorias=['apartaestudios',\n",
    "           'apartamentos',\n",
    "           'casas',\n",
    "           'edificios',\n",
    "           'fincas-y-casas-campestres',\n",
    "           'garajes-y-parqueaderos',\n",
    "           'habitaciones',\n",
    "           'locales-y-bodegas',\n",
    "           'lotes',\n",
    "           'oficinas-y-consultorios']\n",
    "for tipo in tipos:\n",
    "    for categoria in categorias:\n",
    "        print('Tipo: '+tipo + ' -> Categoria: ' +  categoria)\n",
    "        urls.append('https://fincaraiz.elpais.com.co/avisos/'+tipo+'/'+categoria+'?q=OTgsMSxDb2xvbWJpYQ')"
   ]
  },
  {
   "cell_type": "code",
   "execution_count": 223,
   "metadata": {},
   "outputs": [
    {
     "data": {
      "text/plain": [
       "['https://fincaraiz.elpais.com.co/avisos/alquiler/apartaestudios?q=OTgsMSxDb2xvbWJpYQ',\n",
       " 'https://fincaraiz.elpais.com.co/avisos/alquiler/apartamentos?q=OTgsMSxDb2xvbWJpYQ',\n",
       " 'https://fincaraiz.elpais.com.co/avisos/alquiler/casas?q=OTgsMSxDb2xvbWJpYQ',\n",
       " 'https://fincaraiz.elpais.com.co/avisos/alquiler/edificios?q=OTgsMSxDb2xvbWJpYQ',\n",
       " 'https://fincaraiz.elpais.com.co/avisos/alquiler/fincas-y-casas-campestres?q=OTgsMSxDb2xvbWJpYQ',\n",
       " 'https://fincaraiz.elpais.com.co/avisos/alquiler/garajes-y-parqueaderos?q=OTgsMSxDb2xvbWJpYQ',\n",
       " 'https://fincaraiz.elpais.com.co/avisos/alquiler/habitaciones?q=OTgsMSxDb2xvbWJpYQ',\n",
       " 'https://fincaraiz.elpais.com.co/avisos/alquiler/locales-y-bodegas?q=OTgsMSxDb2xvbWJpYQ',\n",
       " 'https://fincaraiz.elpais.com.co/avisos/alquiler/lotes?q=OTgsMSxDb2xvbWJpYQ',\n",
       " 'https://fincaraiz.elpais.com.co/avisos/alquiler/oficinas-y-consultorios?q=OTgsMSxDb2xvbWJpYQ',\n",
       " 'https://fincaraiz.elpais.com.co/avisos/venta/apartaestudios?q=OTgsMSxDb2xvbWJpYQ',\n",
       " 'https://fincaraiz.elpais.com.co/avisos/venta/apartamentos?q=OTgsMSxDb2xvbWJpYQ',\n",
       " 'https://fincaraiz.elpais.com.co/avisos/venta/casas?q=OTgsMSxDb2xvbWJpYQ',\n",
       " 'https://fincaraiz.elpais.com.co/avisos/venta/edificios?q=OTgsMSxDb2xvbWJpYQ',\n",
       " 'https://fincaraiz.elpais.com.co/avisos/venta/fincas-y-casas-campestres?q=OTgsMSxDb2xvbWJpYQ',\n",
       " 'https://fincaraiz.elpais.com.co/avisos/venta/garajes-y-parqueaderos?q=OTgsMSxDb2xvbWJpYQ',\n",
       " 'https://fincaraiz.elpais.com.co/avisos/venta/habitaciones?q=OTgsMSxDb2xvbWJpYQ',\n",
       " 'https://fincaraiz.elpais.com.co/avisos/venta/locales-y-bodegas?q=OTgsMSxDb2xvbWJpYQ',\n",
       " 'https://fincaraiz.elpais.com.co/avisos/venta/lotes?q=OTgsMSxDb2xvbWJpYQ',\n",
       " 'https://fincaraiz.elpais.com.co/avisos/venta/oficinas-y-consultorios?q=OTgsMSxDb2xvbWJpYQ']"
      ]
     },
     "execution_count": 223,
     "metadata": {},
     "output_type": "execute_result"
    }
   ],
   "source": [
    "urls"
   ]
  },
  {
   "cell_type": "code",
   "execution_count": 224,
   "metadata": {},
   "outputs": [],
   "source": [
    "def procesaTelefono(phone):\n",
    "    telefono=\"000000\"\n",
    "    if 'tel:' in phone:\n",
    "        telefono = (phone.replace('tel:',''))\n",
    "    if 'http' in phone:\n",
    "        parsed = urlparse.urlparse(phone)\n",
    "        telefono=(parse_qs(parsed.query)['phone'])[0]\n",
    "    return telefono\n",
    "#procesaTelefono('tel:33333333')\n",
    "#procesaTelefono('https://api.whatsapp.com/send?phone=573006134014&text=Contacto desde ClasificaApartamentos, A00913')"
   ]
  },
  {
   "cell_type": "code",
   "execution_count": 225,
   "metadata": {},
   "outputs": [],
   "source": [
    "data = []\n",
    "def scrapUrl(s,url):\n",
    "    print('scraping url: '+url)\n",
    "    clasificados = s.find_all('div', attrs={'class':'boxArticle'})\n",
    "    \n",
    "    precios_clasificados= [clasificado.find('div', attrs={'class':'price'}).get_text().strip() for clasificado in clasificados ]\n",
    "    description_clasificados= [clasificado.find('div', attrs={'class':'description'}).get_text().strip() for clasificado in clasificados ]\n",
    "    labellist_clasificados= [clasificado.find('div', attrs={'class':'label-list'}).get_text().strip() for clasificado in clasificados ]\n",
    "    acciones_clasificadosones_clasificados= [clasificado.find('div', attrs={'class':'acciones-contactar'}).find('a').get(\"href\") for clasificado in clasificados ]\n",
    "    \n",
    "    for x in range(len(description_clasificados)):\n",
    "        ret_dict = {'Zona':labellist_clasificados[x],\n",
    "                'Descripcion':description_clasificados[x],\n",
    "                'Precio':precios_clasificados[x],\n",
    "                'Telefono':procesaTelefono(acciones_clasificados[x])}\n",
    "        data.append(ret_dict)"
   ]
  },
  {
   "cell_type": "code",
   "execution_count": 226,
   "metadata": {},
   "outputs": [
    {
     "name": "stdout",
     "output_type": "stream",
     "text": [
      "scraping url: https://fincaraiz.elpais.com.co/avisos/alquiler/apartamentos?q=OTgsMSxDb2xvbWJpYQ\n",
      "scraping url: https://fincaraiz.elpais.com.co/avisos/alquiler/casas?q=OTgsMSxDb2xvbWJpYQ\n",
      "scraping url: https://fincaraiz.elpais.com.co/avisos/alquiler/edificios?q=OTgsMSxDb2xvbWJpYQ\n",
      "scraping url: https://fincaraiz.elpais.com.co/avisos/alquiler/fincas-y-casas-campestres?q=OTgsMSxDb2xvbWJpYQ\n",
      "scraping url: https://fincaraiz.elpais.com.co/avisos/alquiler/garajes-y-parqueaderos?q=OTgsMSxDb2xvbWJpYQ\n",
      "scraping url: https://fincaraiz.elpais.com.co/avisos/alquiler/habitaciones?q=OTgsMSxDb2xvbWJpYQ\n",
      "scraping url: https://fincaraiz.elpais.com.co/avisos/alquiler/locales-y-bodegas?q=OTgsMSxDb2xvbWJpYQ\n",
      "scraping url: https://fincaraiz.elpais.com.co/avisos/alquiler/lotes?q=OTgsMSxDb2xvbWJpYQ\n",
      "scraping url: https://fincaraiz.elpais.com.co/avisos/alquiler/oficinas-y-consultorios?q=OTgsMSxDb2xvbWJpYQ\n",
      "scraping url: https://fincaraiz.elpais.com.co/avisos/venta/apartaestudios?q=OTgsMSxDb2xvbWJpYQ\n",
      "scraping url: https://fincaraiz.elpais.com.co/avisos/venta/apartamentos?q=OTgsMSxDb2xvbWJpYQ\n",
      "scraping url: https://fincaraiz.elpais.com.co/avisos/venta/casas?q=OTgsMSxDb2xvbWJpYQ\n",
      "scraping url: https://fincaraiz.elpais.com.co/avisos/venta/edificios?q=OTgsMSxDb2xvbWJpYQ\n",
      "scraping url: https://fincaraiz.elpais.com.co/avisos/venta/fincas-y-casas-campestres?q=OTgsMSxDb2xvbWJpYQ\n",
      "scraping url: https://fincaraiz.elpais.com.co/avisos/venta/garajes-y-parqueaderos?q=OTgsMSxDb2xvbWJpYQ\n",
      "scraping url: https://fincaraiz.elpais.com.co/avisos/venta/locales-y-bodegas?q=OTgsMSxDb2xvbWJpYQ\n",
      "scraping url: https://fincaraiz.elpais.com.co/avisos/venta/lotes?q=OTgsMSxDb2xvbWJpYQ\n",
      "scraping url: https://fincaraiz.elpais.com.co/avisos/venta/oficinas-y-consultorios?q=OTgsMSxDb2xvbWJpYQ\n"
     ]
    }
   ],
   "source": [
    "for url in urls:\n",
    "    p12 = requests.get(url)\n",
    "    if p12.status_code == 200:\n",
    "        s = BeautifulSoup(p12.text, 'lxml')\n",
    "        scrapUrl(s,url)"
   ]
  },
  {
   "cell_type": "code",
   "execution_count": 227,
   "metadata": {},
   "outputs": [
    {
     "data": {
      "text/html": [
       "<div>\n",
       "<style scoped>\n",
       "    .dataframe tbody tr th:only-of-type {\n",
       "        vertical-align: middle;\n",
       "    }\n",
       "\n",
       "    .dataframe tbody tr th {\n",
       "        vertical-align: top;\n",
       "    }\n",
       "\n",
       "    .dataframe thead th {\n",
       "        text-align: right;\n",
       "    }\n",
       "</style>\n",
       "<table border=\"1\" class=\"dataframe\">\n",
       "  <thead>\n",
       "    <tr style=\"text-align: right;\">\n",
       "      <th></th>\n",
       "      <th>Zona</th>\n",
       "      <th>Descripcion</th>\n",
       "      <th>Precio</th>\n",
       "      <th>Telefono</th>\n",
       "    </tr>\n",
       "  </thead>\n",
       "  <tbody>\n",
       "    <tr>\n",
       "      <td>0</td>\n",
       "      <td>Apartamentos, Alquiler en Colseguros</td>\n",
       "      <td>Cali, 3 alcobas, 2 baños, 100,00mts2</td>\n",
       "      <td>$850.000</td>\n",
       "      <td>3104031111</td>\n",
       "    </tr>\n",
       "    <tr>\n",
       "      <td>1</td>\n",
       "      <td>Apartamentos, Alquiler en Ciudad Pacifica</td>\n",
       "      <td>Cali, 2 alcobas, 2 baños, 59,00mts2</td>\n",
       "      <td>$800.000</td>\n",
       "      <td>3206324976</td>\n",
       "    </tr>\n",
       "    <tr>\n",
       "      <td>2</td>\n",
       "      <td>Apartamentos, Alquiler en Ciudad Bochalema</td>\n",
       "      <td>Cali, 2 alcobas, 1 baño, 55,00mts2</td>\n",
       "      <td>$750.000</td>\n",
       "      <td>3226221212</td>\n",
       "    </tr>\n",
       "    <tr>\n",
       "      <td>3</td>\n",
       "      <td>Apartamentos, Alquiler en Álamos</td>\n",
       "      <td>Cali, 3 alcobas, 2 baños, 70,00mts2</td>\n",
       "      <td>$950.000</td>\n",
       "      <td>3146201493</td>\n",
       "    </tr>\n",
       "    <tr>\n",
       "      <td>4</td>\n",
       "      <td>Apartamentos, Alquiler en Los Naranjos</td>\n",
       "      <td>Cali, 2 alcobas, 2 baños, 15,00mts2</td>\n",
       "      <td>$600.000</td>\n",
       "      <td>3105999999</td>\n",
       "    </tr>\n",
       "  </tbody>\n",
       "</table>\n",
       "</div>"
      ],
      "text/plain": [
       "                                         Zona  \\\n",
       "0        Apartamentos, Alquiler en Colseguros   \n",
       "1   Apartamentos, Alquiler en Ciudad Pacifica   \n",
       "2  Apartamentos, Alquiler en Ciudad Bochalema   \n",
       "3            Apartamentos, Alquiler en Álamos   \n",
       "4      Apartamentos, Alquiler en Los Naranjos   \n",
       "\n",
       "                            Descripcion    Precio    Telefono  \n",
       "0  Cali, 3 alcobas, 2 baños, 100,00mts2  $850.000  3104031111  \n",
       "1   Cali, 2 alcobas, 2 baños, 59,00mts2  $800.000  3206324976  \n",
       "2    Cali, 2 alcobas, 1 baño, 55,00mts2  $750.000  3226221212  \n",
       "3   Cali, 3 alcobas, 2 baños, 70,00mts2  $950.000  3146201493  \n",
       "4   Cali, 2 alcobas, 2 baños, 15,00mts2  $600.000  3105999999  "
      ]
     },
     "execution_count": 227,
     "metadata": {},
     "output_type": "execute_result"
    }
   ],
   "source": [
    "df = pd.DataFrame(data)\n",
    "df.head()"
   ]
  },
  {
   "cell_type": "code",
   "execution_count": 228,
   "metadata": {
    "scrolled": true
   },
   "outputs": [
    {
     "name": "stdout",
     "output_type": "stream",
     "text": [
      "<class 'pandas.core.frame.DataFrame'>\n",
      "RangeIndex: 850 entries, 0 to 849\n",
      "Data columns (total 4 columns):\n",
      "Zona           850 non-null object\n",
      "Descripcion    850 non-null object\n",
      "Precio         850 non-null object\n",
      "Telefono       850 non-null object\n",
      "dtypes: object(4)\n",
      "memory usage: 26.7+ KB\n"
     ]
    }
   ],
   "source": [
    "df.info()"
   ]
  },
  {
   "cell_type": "code",
   "execution_count": 229,
   "metadata": {},
   "outputs": [
    {
     "name": "stdout",
     "output_type": "stream",
     "text": [
      "csv export done !\n"
     ]
    }
   ],
   "source": [
    "x = datetime.datetime.now()\n",
    "df.to_csv('c:/temporal/webscraping_elpais_'+x.strftime(\"%Y-%m-%d_%H-%M-%S\")+'.csv',sep=';')\n",
    "print('csv export done !')"
   ]
  },
  {
   "cell_type": "code",
   "execution_count": null,
   "metadata": {},
   "outputs": [],
   "source": []
  }
 ],
 "metadata": {
  "kernelspec": {
   "display_name": "Python 3",
   "language": "python",
   "name": "python3"
  },
  "language_info": {
   "codemirror_mode": {
    "name": "ipython",
    "version": 3
   },
   "file_extension": ".py",
   "mimetype": "text/x-python",
   "name": "python",
   "nbconvert_exporter": "python",
   "pygments_lexer": "ipython3",
   "version": "3.7.4"
  }
 },
 "nbformat": 4,
 "nbformat_minor": 2
}
